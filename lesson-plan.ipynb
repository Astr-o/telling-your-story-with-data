{
 "cells": [
  {
   "cell_type": "markdown",
   "metadata": {},
   "source": [
    "# Telling your story with data lesson plan"
   ]
  },
  {
   "cell_type": "markdown",
   "metadata": {},
   "source": [
    "## Imports"
   ]
  },
  {
   "cell_type": "code",
   "execution_count": 2,
   "metadata": {
    "collapsed": true
   },
   "outputs": [],
   "source": [
    "import pandas as pd\n",
    "import numpy as np\n",
    "import seaborn as sns\n",
    "import matplotlib.pyplot as plt\n",
    "import matplotlib.mlab as mlab\n",
    "import math\n",
    "\n",
    "% matplotlib inline"
   ]
  },
  {
   "cell_type": "markdown",
   "metadata": {},
   "source": [
    "## Intro\n",
    "\n",
    "The sinking of the RMS Titanic is one of the most infamous shipwrecks in history.  On April 15, 1912, during her maiden voyage, the Titanic sank after colliding with an iceberg, killing 1502 out of 2224 passengers and crew. This sensational tragedy shocked the international community and led to better safety regulations for ships.\n",
    "\n",
    "One of the reasons that the shipwreck led to such loss of life was that there were not enough lifeboats for the passengers and crew. Although there was some element of luck involved in surviving the sinking, some groups of people were more likely to survive than others, such as women, children, and the upper-class.\n",
    "\n",
    "In this challenge, we ask you to complete the analysis of what sorts of people were likely to survive. \n",
    "\n",
    "**source**: https://www.kaggle.com/c/titanic\n",
    "\n",
    "\n",
    "## Data Set\n"
   ]
  },
  {
   "cell_type": "code",
   "execution_count": 3,
   "metadata": {},
   "outputs": [
    {
     "data": {
      "text/html": [
       "<div>\n",
       "<style>\n",
       "    .dataframe thead tr:only-child th {\n",
       "        text-align: right;\n",
       "    }\n",
       "\n",
       "    .dataframe thead th {\n",
       "        text-align: left;\n",
       "    }\n",
       "\n",
       "    .dataframe tbody tr th {\n",
       "        vertical-align: top;\n",
       "    }\n",
       "</style>\n",
       "<table border=\"1\" class=\"dataframe\">\n",
       "  <thead>\n",
       "    <tr style=\"text-align: right;\">\n",
       "      <th></th>\n",
       "      <th>index</th>\n",
       "      <th>PassengerId</th>\n",
       "      <th>Survived</th>\n",
       "      <th>Name</th>\n",
       "      <th>Sex</th>\n",
       "      <th>Age</th>\n",
       "      <th>Fare</th>\n",
       "      <th>Passenger_class</th>\n",
       "      <th>Number_of_siblings_and_spouses</th>\n",
       "      <th>Number_of_parents_and_childern</th>\n",
       "      <th>Port_embarked</th>\n",
       "    </tr>\n",
       "  </thead>\n",
       "  <tbody>\n",
       "    <tr>\n",
       "      <th>0</th>\n",
       "      <td>0</td>\n",
       "      <td>1</td>\n",
       "      <td>0</td>\n",
       "      <td>Braund, Mr. Owen Harris</td>\n",
       "      <td>male</td>\n",
       "      <td>22.0</td>\n",
       "      <td>7.2500</td>\n",
       "      <td>3</td>\n",
       "      <td>1</td>\n",
       "      <td>0</td>\n",
       "      <td>Southhampton</td>\n",
       "    </tr>\n",
       "    <tr>\n",
       "      <th>1</th>\n",
       "      <td>1</td>\n",
       "      <td>2</td>\n",
       "      <td>1</td>\n",
       "      <td>Cumings, Mrs. John Bradley (Florence Briggs Th...</td>\n",
       "      <td>female</td>\n",
       "      <td>38.0</td>\n",
       "      <td>71.2833</td>\n",
       "      <td>1</td>\n",
       "      <td>1</td>\n",
       "      <td>0</td>\n",
       "      <td>Cherbourg</td>\n",
       "    </tr>\n",
       "    <tr>\n",
       "      <th>2</th>\n",
       "      <td>2</td>\n",
       "      <td>3</td>\n",
       "      <td>1</td>\n",
       "      <td>Heikkinen, Miss. Laina</td>\n",
       "      <td>female</td>\n",
       "      <td>26.0</td>\n",
       "      <td>7.9250</td>\n",
       "      <td>3</td>\n",
       "      <td>0</td>\n",
       "      <td>0</td>\n",
       "      <td>Southhampton</td>\n",
       "    </tr>\n",
       "    <tr>\n",
       "      <th>3</th>\n",
       "      <td>3</td>\n",
       "      <td>4</td>\n",
       "      <td>1</td>\n",
       "      <td>Futrelle, Mrs. Jacques Heath (Lily May Peel)</td>\n",
       "      <td>female</td>\n",
       "      <td>35.0</td>\n",
       "      <td>53.1000</td>\n",
       "      <td>1</td>\n",
       "      <td>1</td>\n",
       "      <td>0</td>\n",
       "      <td>Southhampton</td>\n",
       "    </tr>\n",
       "    <tr>\n",
       "      <th>4</th>\n",
       "      <td>4</td>\n",
       "      <td>5</td>\n",
       "      <td>0</td>\n",
       "      <td>Allen, Mr. William Henry</td>\n",
       "      <td>male</td>\n",
       "      <td>35.0</td>\n",
       "      <td>8.0500</td>\n",
       "      <td>3</td>\n",
       "      <td>0</td>\n",
       "      <td>0</td>\n",
       "      <td>Southhampton</td>\n",
       "    </tr>\n",
       "    <tr>\n",
       "      <th>5</th>\n",
       "      <td>6</td>\n",
       "      <td>7</td>\n",
       "      <td>0</td>\n",
       "      <td>McCarthy, Mr. Timothy J</td>\n",
       "      <td>male</td>\n",
       "      <td>54.0</td>\n",
       "      <td>51.8625</td>\n",
       "      <td>1</td>\n",
       "      <td>0</td>\n",
       "      <td>0</td>\n",
       "      <td>Southhampton</td>\n",
       "    </tr>\n",
       "    <tr>\n",
       "      <th>6</th>\n",
       "      <td>7</td>\n",
       "      <td>8</td>\n",
       "      <td>0</td>\n",
       "      <td>Palsson, Master. Gosta Leonard</td>\n",
       "      <td>male</td>\n",
       "      <td>2.0</td>\n",
       "      <td>21.0750</td>\n",
       "      <td>3</td>\n",
       "      <td>3</td>\n",
       "      <td>1</td>\n",
       "      <td>Southhampton</td>\n",
       "    </tr>\n",
       "    <tr>\n",
       "      <th>7</th>\n",
       "      <td>8</td>\n",
       "      <td>9</td>\n",
       "      <td>1</td>\n",
       "      <td>Johnson, Mrs. Oscar W (Elisabeth Vilhelmina Berg)</td>\n",
       "      <td>female</td>\n",
       "      <td>27.0</td>\n",
       "      <td>11.1333</td>\n",
       "      <td>3</td>\n",
       "      <td>0</td>\n",
       "      <td>2</td>\n",
       "      <td>Southhampton</td>\n",
       "    </tr>\n",
       "    <tr>\n",
       "      <th>8</th>\n",
       "      <td>9</td>\n",
       "      <td>10</td>\n",
       "      <td>1</td>\n",
       "      <td>Nasser, Mrs. Nicholas (Adele Achem)</td>\n",
       "      <td>female</td>\n",
       "      <td>14.0</td>\n",
       "      <td>30.0708</td>\n",
       "      <td>2</td>\n",
       "      <td>1</td>\n",
       "      <td>0</td>\n",
       "      <td>Cherbourg</td>\n",
       "    </tr>\n",
       "    <tr>\n",
       "      <th>9</th>\n",
       "      <td>10</td>\n",
       "      <td>11</td>\n",
       "      <td>1</td>\n",
       "      <td>Sandstrom, Miss. Marguerite Rut</td>\n",
       "      <td>female</td>\n",
       "      <td>4.0</td>\n",
       "      <td>16.7000</td>\n",
       "      <td>3</td>\n",
       "      <td>1</td>\n",
       "      <td>1</td>\n",
       "      <td>Southhampton</td>\n",
       "    </tr>\n",
       "  </tbody>\n",
       "</table>\n",
       "</div>"
      ],
      "text/plain": [
       "   index  PassengerId  Survived  \\\n",
       "0      0            1         0   \n",
       "1      1            2         1   \n",
       "2      2            3         1   \n",
       "3      3            4         1   \n",
       "4      4            5         0   \n",
       "5      6            7         0   \n",
       "6      7            8         0   \n",
       "7      8            9         1   \n",
       "8      9           10         1   \n",
       "9     10           11         1   \n",
       "\n",
       "                                                Name     Sex   Age     Fare  \\\n",
       "0                            Braund, Mr. Owen Harris    male  22.0   7.2500   \n",
       "1  Cumings, Mrs. John Bradley (Florence Briggs Th...  female  38.0  71.2833   \n",
       "2                             Heikkinen, Miss. Laina  female  26.0   7.9250   \n",
       "3       Futrelle, Mrs. Jacques Heath (Lily May Peel)  female  35.0  53.1000   \n",
       "4                           Allen, Mr. William Henry    male  35.0   8.0500   \n",
       "5                            McCarthy, Mr. Timothy J    male  54.0  51.8625   \n",
       "6                     Palsson, Master. Gosta Leonard    male   2.0  21.0750   \n",
       "7  Johnson, Mrs. Oscar W (Elisabeth Vilhelmina Berg)  female  27.0  11.1333   \n",
       "8                Nasser, Mrs. Nicholas (Adele Achem)  female  14.0  30.0708   \n",
       "9                    Sandstrom, Miss. Marguerite Rut  female   4.0  16.7000   \n",
       "\n",
       "   Passenger_class  Number_of_siblings_and_spouses  \\\n",
       "0                3                               1   \n",
       "1                1                               1   \n",
       "2                3                               0   \n",
       "3                1                               1   \n",
       "4                3                               0   \n",
       "5                1                               0   \n",
       "6                3                               3   \n",
       "7                3                               0   \n",
       "8                2                               1   \n",
       "9                3                               1   \n",
       "\n",
       "   Number_of_parents_and_childern Port_embarked  \n",
       "0                               0  Southhampton  \n",
       "1                               0     Cherbourg  \n",
       "2                               0  Southhampton  \n",
       "3                               0  Southhampton  \n",
       "4                               0  Southhampton  \n",
       "5                               0  Southhampton  \n",
       "6                               1  Southhampton  \n",
       "7                               2  Southhampton  \n",
       "8                               0     Cherbourg  \n",
       "9                               1  Southhampton  "
      ]
     },
     "execution_count": 3,
     "metadata": {},
     "output_type": "execute_result"
    }
   ],
   "source": [
    "data_set = pd.read_csv('./datasets/clean_titanic.csv')\n",
    "data_set.head(10)"
   ]
  },
  {
   "cell_type": "markdown",
   "metadata": {},
   "source": [
    "### Data Dictionary"
   ]
  },
  {
   "cell_type": "markdown",
   "metadata": {},
   "source": [
    "| Variable                       |  Definition               |  Keys                                         |\n",
    "|--------------------------------|---------------------------|-----------------------------------------------|\n",
    "| survived                       | if the passenger survived | 0 -  ** :( ** - dead<br>1 - ** :) ** - alive  |\n",
    "| name                           | passenger's full name     |                                               |\n",
    "| sex                            | passenger's gender        | male or female                                |\n",
    "| age                            | passenger's age           |                                               |\n",
    "| fare                           | passenger's fare          | in pounds                                     |\n",
    "| passenger_class                | class passenger is in     | 1 - first <br>2 - second <br>3 - third        |\n",
    "| number_of_siblings_and_spouses | number of immediate family|                                               |\n",
    "| Number_of_parents_and_childern | number of extended family |                                               |"
   ]
  },
  {
   "cell_type": "markdown",
   "metadata": {},
   "source": [
    "Data sourced from Keggle: https://www.kaggle.com/c/titanic/data"
   ]
  },
  {
   "cell_type": "markdown",
   "metadata": {},
   "source": [
    "## Learning outcome 1 - Data types\n",
    "\n",
    "### Goal\n",
    "\n",
    "* Students can describe the difference between discrete and continous variables/data\n",
    "* Students can group a given dataset into discrete and continious variables"
   ]
  },
  {
   "cell_type": "markdown",
   "metadata": {},
   "source": [
    "### Intro\n",
    "\n",
    "Not all data is the same, it is often useful to make a distinction between different types of data. \n",
    "\n",
    "Two broad categories we can use are:\n",
    "* Discrete\n",
    "    * made up of individual values\n",
    "    * categories\n",
    "    * finite set of possible values\n",
    "    * example:\n",
    "        * Color of your shirt - word based categoires are descrete\n",
    "        * floors in a building\n",
    "        * Number of cylinders in your car \n",
    "        * Age\n",
    "        * **discuss**: numeric values can be both, your age as a meaure of time since you were born is continious, but we often group ages into whole years in this case it is discrete\n",
    "    \n",
    "* Continous\n",
    "    * made of a range of real numbers \n",
    "    * measurements\n",
    "    * infinate set of possible values (0.9, 0.99, 0.999, 0.9999 ... )\n",
    "    * example: \n",
    "        * air temperature\n",
    "        * height\n",
    "        * weight\n",
    "        * age \n",
    "        * **discuss**: numeric values can be both, your age as a meaure of time since you were born is continious, but we often group ages into whole years in this case it is discrete\n",
    "        \n",
    "### Activity\n",
    "\n",
    "group the columns of the titanic data into either discrete or continous, for each give a brief reason why\n",
    "\n",
    "#### Solutions\n",
    "\n",
    "* Continous\n",
    "    * fare\n",
    "    * age - depending on justification (though its descrete in this dataset)\n",
    "    \n",
    "* Discrete\n",
    "    * Survived\n",
    "    * Sex\n",
    "    * Age\n",
    "    * Passenger_class\n",
    "    * Number_of_siblings_and_spouses - half a spouse makes no sense so even though tis numeric its discrete\n",
    "    * Number_of_parents_and_childern \n",
    "    * PassengerId - this is descrete, though because each value is unque its not very useful\n",
    "\n",
    "### Follow up\n",
    "\n",
    "Can anyone think of a discrete/continous variables that maybe useful to keep track of in your department?"
   ]
  },
  {
   "cell_type": "markdown",
   "metadata": {},
   "source": [
    "## Learning outcome 2 - Measures of Central Tendency\n",
    "\n",
    "### Goal\n",
    "\n",
    "* Students understand what a distrubution is and understand the concept of its center\n",
    "* Students have a high level understanding of what mean, mode and median are and how they are different\n",
    "* Students can compute these statistics (with the help of a pc or calculator)\n"
   ]
  },
  {
   "cell_type": "markdown",
   "metadata": {},
   "source": [
    "### Intro\n",
    "\n",
    "A value in isolation is not very useful, we gain insight from data by comparing values and understanding what good/bad means for the whole set of values before we can evaluate individual records. \n",
    "\n",
    "A useful way to understand a variable is to plot its disturbution"
   ]
  },
  {
   "cell_type": "code",
   "execution_count": 29,
   "metadata": {},
   "outputs": [
    {
     "data": {
      "text/plain": [
       "<matplotlib.text.Text at 0x29f670b2710>"
      ]
     },
     "execution_count": 29,
     "metadata": {},
     "output_type": "execute_result"
    },
    {
     "data": {
      "image/png": "[encoded data removed]",
      "text/plain": [
       "<matplotlib.figure.Figure at 0x29f66e51240>"
      ]
     },
     "metadata": {},
     "output_type": "display_data"
    }
   ],
   "source": [
    "plt.figure(figsize=(8,8))\n",
    "data_set.Age.plot.hist(bins=20)\n",
    "plt.xlabel('Passenger Age')\n",
    "plt.ylabel('Frequency - Number of passengers')\n",
    "plt.title('Passenger Age Distrubtion')"
   ]
  },
  {
   "cell_type": "markdown",
   "metadata": {},
   "source": [
    "From this we can quickly see that most of the passengers are in the range of 20 - 40 years old. \n",
    "\n",
    "Another way of evaluating the distrubtion is using descriptive statistics \n",
    "\n",
    "First of these are used to measure a distributions \"central tendency\" another way of understanding this is around what value do most of our measurements center. In the diagram above it is pretty easy to see the distrubtion of peoples ages on the titanic tend to center around 30 years old. \n",
    "\n",
    "There are 3 common measures used for centrality these are \n",
    "\n",
    "* mean - average value\n",
    "* median - medium value, if we arrange of values in order its the middle one (or in between 2)\n",
    "* mode - most common value(s) \n",
    "\n",
    "Lets get an intative understanding of these\n",
    "\n",
    "13, 18, 13, 14, 13, 16, 14, 21, 13\n",
    "\n",
    "#### Mean\n",
    "\n",
    "Calculate the mean by adding all the values and dividing by the number of values\n",
    "\n",
    "(13 + 18 + 13 + 14 + 13 + 16 + 14 + 21 + 13) ÷ 9 = 15\n"
   ]
  },
  {
   "cell_type": "code",
   "execution_count": 30,
   "metadata": {},
   "outputs": [
    {
     "name": "stdout",
     "output_type": "stream",
     "text": [
      "mean 15.0\n"
     ]
    }
   ],
   "source": [
    "print('mean', np.array([13, 18, 13, 14, 13, 16, 14, 21, 13]).mean())"
   ]
  },
  {
   "cell_type": "markdown",
   "metadata": {},
   "source": [
    "#### Median\n",
    "\n",
    "first reorder the numbers \n",
    "\n",
    "13, 13, 13, 13, 14, 14, 16, 18, 21\n",
    "\n",
    "then the median is the middle, in this case with have 9 values so the 5th value will be the median\n",
    "\n",
    "13, 13, 13, 13, **14**, 14, 16, 18, 21\n",
    "\n",
    "#### Mode\n",
    "\n",
    "Mode is the most common value(s), note you can have more then one if the top value is tied\n",
    "\n",
    "**13**, **13**, **13**, **13**, 14, 14, 16, 18, 21\n",
    "\n",
    "in our distubution the most common value is **13**"
   ]
  },
  {
   "cell_type": "markdown",
   "metadata": {},
   "source": [
    "### Activity\n",
    "\n",
    "Seperate the data for people that survived and those that parished. Calculate the mean, median and mode for each group.\n",
    "\n",
    "What are they, whats the difference, what does that tell us about the group that survived?\n",
    "\n",
    "#### Solutions"
   ]
  },
  {
   "cell_type": "code",
   "execution_count": 31,
   "metadata": {},
   "outputs": [
    {
     "name": "stdout",
     "output_type": "stream",
     "text": [
      "alive mean age: 28.19329861111111\n",
      "alive median age: 28.0\n",
      "alive mode age: 0    24.0\n",
      "dtype: float64\n",
      "\n",
      "dead mean age: 30.62617924528302\n",
      "dead median age: 28.0\n",
      "dead mode age: 0    21.0\n",
      "dtype: float64\n"
     ]
    }
   ],
   "source": [
    "alive = data_set[data_set.Survived == 1]\n",
    "dead = data_set[data_set.Survived == 0]\n",
    "\n",
    "print('alive mean age:', alive.Age.mean())\n",
    "print('alive median age:', alive.Age.median())\n",
    "print('alive mode age:', alive.Age.mode())\n",
    "print()\n",
    "print('dead mean age:', dead.Age.mean())\n",
    "print('dead median age:', dead.Age.median())\n",
    "print('dead mode age:', dead.Age.mode())"
   ]
  },
  {
   "cell_type": "markdown",
   "metadata": {},
   "source": [
    "### Follow up\n",
    "\n",
    "we can see that the surviors seem to have a lower average age then those that died... \n",
    "\n",
    "Does this mean age is a significant factor is determaining survival?\n",
    "\n",
    "We dont know yet!!! \n",
    "\n",
    "Segue :)\n"
   ]
  },
  {
   "cell_type": "markdown",
   "metadata": {},
   "source": [
    "## Learning outcome 3 - Measures of Spread\n",
    "\n",
    "### Goal\n",
    "* students understand what a distrubation is and understand the concept of its spread\n",
    "* students understand that distrubutions with the same center can look very different so spread is also required\n",
    "* students have an understanding of ranges and standard deviations and what these tell us about spread\n",
    "* students can calculate the range and standard deviation of a distrubution"
   ]
  },
  {
   "cell_type": "markdown",
   "metadata": {},
   "source": [
    "### Intro"
   ]
  },
  {
   "cell_type": "markdown",
   "metadata": {},
   "source": [
    "not all centers are equal, just because a distubution has the same center as another doesnt mean they look the same.\n",
    "\n",
    "Lets look at this example to illustrate"
   ]
  },
  {
   "cell_type": "code",
   "execution_count": 59,
   "metadata": {},
   "outputs": [
    {
     "data": {
      "image/png": "[encoded data removed]",
      "text/plain": [
       "<matplotlib.figure.Figure at 0x29f676a5278>"
      ]
     },
     "metadata": {},
     "output_type": "display_data"
    }
   ],
   "source": [
    "plt.figure(figsize=(12,8))\n",
    "\n",
    "mu = 100\n",
    "variance = 0.25\n",
    "sigma = math.sqrt(variance)\n",
    "x1 = np.linspace(mu - 3*sigma, mu + 3*sigma, 100)\n",
    "plt.plot(x1,mlab.normpdf(x1, mu, sigma), label='x1 mean = 100')\n",
    "\n",
    "\n",
    "mu = 100\n",
    "variance = 1\n",
    "sigma = math.sqrt(variance)\n",
    "x2 = np.linspace(mu - 3*sigma, mu + 3*sigma, 100)\n",
    "plt.plot(x2,mlab.normpdf(x2, mu, sigma), label='x2 mean = 100')\n",
    "\n",
    "\n",
    "mu = 100\n",
    "variance = 5\n",
    "sigma = math.sqrt(variance)\n",
    "x3 = np.linspace(mu - 3*sigma, mu + 3*sigma, 100)\n",
    "plt.plot(x3,mlab.normpdf(x3, mu, sigma), label='x3 mean = 100')\n",
    "plt.legend()\n",
    "plt.show()"
   ]
  },
  {
   "cell_type": "markdown",
   "metadata": {},
   "source": [
    "each of the distubutions above has the exact same mean of 100 so if we were only given a mean it will still be very hard to get an idea of what the data actually looks like.\n",
    "\n",
    "For that we need another set of descriptive statistics that describe spread.\n",
    "\n",
    "The simpliest of these is \n",
    "\n",
    "#### Range \n",
    "the difference between the smallest value and the largest value\n",
    "\n",
    "this gives the extemes of our values, given the example we used before calculate the range\n",
    "\n",
    "13, 13, 13, 13, 14, 14, 16, 18, 21\n",
    "\n",
    "range = 21 - 13 = 8\n",
    "\n",
    "calculating the ranges for the examples we saw before we get\n",
    "\n",
    "\n"
   ]
  },
  {
   "cell_type": "code",
   "execution_count": 55,
   "metadata": {},
   "outputs": [
    {
     "name": "stdout",
     "output_type": "stream",
     "text": [
      "range x1:  3.0\n",
      "range x2:  6.0\n",
      "range x3:  13.416407865\n"
     ]
    }
   ],
   "source": [
    "print('range x1: ', x1.max() - x1.min())\n",
    "print('range x2: ', x2.max() - x2.min())\n",
    "print('range x3: ', x3.max() - x3.min())"
   ]
  },
  {
   "cell_type": "markdown",
   "metadata": {},
   "source": [
    "now we can tell them apart"
   ]
  },
  {
   "cell_type": "code",
   "execution_count": 60,
   "metadata": {},
   "outputs": [
    {
     "data": {
      "image/png": "[encoded data removed]",
      "text/plain": [
       "<matplotlib.figure.Figure at 0x29f6776b198>"
      ]
     },
     "metadata": {},
     "output_type": "display_data"
    }
   ],
   "source": [
    "plt.figure(figsize=(12,8))\n",
    "\n",
    "mu = 100\n",
    "variance = 0.25\n",
    "sigma = math.sqrt(variance)\n",
    "x1 = np.linspace(mu - 3*sigma, mu + 3*sigma, 100)\n",
    "plt.plot(x1,mlab.normpdf(x1, mu, sigma), label='x1 mean = 100, range = 3')\n",
    "\n",
    "\n",
    "mu = 100\n",
    "variance = 1\n",
    "sigma = math.sqrt(variance)\n",
    "x2 = np.linspace(mu - 3*sigma, mu + 3*sigma, 100)\n",
    "plt.plot(x2,mlab.normpdf(x2, mu, sigma), label='x2 mean = 100, range = 6')\n",
    "\n",
    "\n",
    "mu = 100\n",
    "variance = 5\n",
    "sigma = math.sqrt(variance)\n",
    "x3 = np.linspace(mu - 3*sigma, mu + 3*sigma, 100)\n",
    "plt.plot(x3,mlab.normpdf(x3, mu, sigma), label='x3 mean = 100, range = 13.42')\n",
    "plt.legend()\n",
    "plt.show()"
   ]
  },
  {
   "cell_type": "code",
   "execution_count": null,
   "metadata": {
    "collapsed": true
   },
   "outputs": [],
   "source": []
  }
 ],
 "metadata": {
  "kernelspec": {
   "display_name": "Python 3",
   "language": "python",
   "name": "python3"
  },
  "language_info": {
   "codemirror_mode": {
    "name": "ipython",
    "version": 3
   },
   "file_extension": ".py",
   "mimetype": "text/x-python",
   "name": "python",
   "nbconvert_exporter": "python",
   "pygments_lexer": "ipython3",
   "version": "3.6.1"
  }
 },
 "nbformat": 4,
 "nbformat_minor": 2
}
